{
  "nbformat": 4,
  "nbformat_minor": 0,
  "metadata": {
    "colab": {
      "provenance": []
    },
    "kernelspec": {
      "name": "python3",
      "display_name": "Python 3"
    },
    "language_info": {
      "name": "python"
    }
  },
  "cells": [
    {
      "cell_type": "code",
      "source": [
        "# Write a Pandas program to create and display a one-dimensional array-like object containing an array of data.\n"
      ],
      "metadata": {
        "id": "t_xj10ln9T-r"
      },
      "execution_count": 3,
      "outputs": []
    },
    {
      "cell_type": "code",
      "execution_count": 4,
      "metadata": {
        "id": "2nf9dJCC8QoY"
      },
      "outputs": [],
      "source": [
        "import pandas as pd"
      ]
    },
    {
      "cell_type": "code",
      "source": [
        "lst = [1,2,3,4,5]\n",
        "s1 = pd.Series(lst)"
      ],
      "metadata": {
        "id": "IE62-nRu8Z-Y"
      },
      "execution_count": 5,
      "outputs": []
    },
    {
      "cell_type": "code",
      "source": [
        "s1"
      ],
      "metadata": {
        "colab": {
          "base_uri": "https://localhost:8080/"
        },
        "id": "w9kMtDux9JWJ",
        "outputId": "83eb8433-38c1-4a40-cc58-bffbcb06bf59"
      },
      "execution_count": 6,
      "outputs": [
        {
          "output_type": "execute_result",
          "data": {
            "text/plain": [
              "0    1\n",
              "1    2\n",
              "2    3\n",
              "3    4\n",
              "4    5\n",
              "dtype: int64"
            ]
          },
          "metadata": {},
          "execution_count": 6
        }
      ]
    },
    {
      "cell_type": "code",
      "source": [
        "#2. Write a Pandas program to convert a Panda module Series to Python list and it's type."
      ],
      "metadata": {
        "id": "8yh_4apL9Mjg"
      },
      "execution_count": 7,
      "outputs": []
    },
    {
      "cell_type": "code",
      "source": [
        "lst = [1,2,3]\n",
        "s2 = pd.Series(lst)\n",
        "lst1 = s2.tolist()"
      ],
      "metadata": {
        "id": "veRZISjP9fz0"
      },
      "execution_count": 8,
      "outputs": []
    },
    {
      "cell_type": "code",
      "source": [
        "print('lst',type(lst))\n",
        "print('s2',type(s2))\n",
        "print('last1',type(lst1))"
      ],
      "metadata": {
        "colab": {
          "base_uri": "https://localhost:8080/"
        },
        "id": "f5hFQxN_9trR",
        "outputId": "f9bda7c1-8181-49c7-e99c-84a96487d0fd"
      },
      "execution_count": 9,
      "outputs": [
        {
          "output_type": "stream",
          "name": "stdout",
          "text": [
            "lst <class 'list'>\n",
            "s2 <class 'pandas.core.series.Series'>\n",
            "last1 <class 'list'>\n"
          ]
        }
      ]
    },
    {
      "cell_type": "code",
      "source": [
        "#3. Write a Pandas program to add, subtract, multiple and divide two Pandas Series. "
      ],
      "metadata": {
        "id": "7qlB9aai-BN9"
      },
      "execution_count": 10,
      "outputs": []
    },
    {
      "cell_type": "code",
      "source": [
        "s1 = pd.Series([1,2,3])\n",
        "s2 = pd.Series([4,4,5])"
      ],
      "metadata": {
        "id": "N1mp0LF5-RZV"
      },
      "execution_count": 11,
      "outputs": []
    },
    {
      "cell_type": "code",
      "source": [
        "sum = s1+s2"
      ],
      "metadata": {
        "id": "DV8cOdVy-ZOn"
      },
      "execution_count": 12,
      "outputs": []
    },
    {
      "cell_type": "code",
      "source": [
        "mult = s1*s2\n",
        "div = s1/s1\n",
        "sub = s1-s2"
      ],
      "metadata": {
        "id": "vZlb8A7_-cWO"
      },
      "execution_count": 13,
      "outputs": []
    },
    {
      "cell_type": "code",
      "source": [
        "#Write a Pandas program to compare the elements of the two Pandas Series. "
      ],
      "metadata": {
        "id": "WSEBAZnb-djE"
      },
      "execution_count": 14,
      "outputs": []
    },
    {
      "cell_type": "code",
      "source": [
        "s1 = pd.Series([1,2,3])\n",
        "s2 = pd.Series([4,4,5])"
      ],
      "metadata": {
        "id": "WEG7mS3L-7M7"
      },
      "execution_count": 15,
      "outputs": []
    },
    {
      "cell_type": "code",
      "source": [
        "print(\"Equals\")\n",
        "print(s1==s2)"
      ],
      "metadata": {
        "colab": {
          "base_uri": "https://localhost:8080/"
        },
        "id": "GQcU7Ip5_GvU",
        "outputId": "2f362a0d-ddc7-4a20-d4bc-473864da9aaa"
      },
      "execution_count": 16,
      "outputs": [
        {
          "output_type": "stream",
          "name": "stdout",
          "text": [
            "Equals\n",
            "0    False\n",
            "1    False\n",
            "2    False\n",
            "dtype: bool\n"
          ]
        }
      ]
    },
    {
      "cell_type": "code",
      "source": [
        "print(\"Greater than:\")\n",
        "print(s1 > s2)"
      ],
      "metadata": {
        "colab": {
          "base_uri": "https://localhost:8080/"
        },
        "id": "HwRfAZDM_JlY",
        "outputId": "b043b03d-6087-4c5a-bc6f-d9f85ad80fab"
      },
      "execution_count": 17,
      "outputs": [
        {
          "output_type": "stream",
          "name": "stdout",
          "text": [
            "Greater than:\n",
            "0    False\n",
            "1    False\n",
            "2    False\n",
            "dtype: bool\n"
          ]
        }
      ]
    },
    {
      "cell_type": "code",
      "source": [
        "print('less than')\n",
        "print(s1<s2)"
      ],
      "metadata": {
        "colab": {
          "base_uri": "https://localhost:8080/"
        },
        "id": "FF1pgHJm_P8r",
        "outputId": "c87b8157-b69e-485a-e873-f3301fc81974"
      },
      "execution_count": 18,
      "outputs": [
        {
          "output_type": "stream",
          "name": "stdout",
          "text": [
            "less than\n",
            "0    True\n",
            "1    True\n",
            "2    True\n",
            "dtype: bool\n"
          ]
        }
      ]
    },
    {
      "cell_type": "code",
      "source": [
        "#5. Write a Pandas program to convert a dictionary to a Pandas series."
      ],
      "metadata": {
        "id": "RTib3nkz_eew"
      },
      "execution_count": 19,
      "outputs": []
    },
    {
      "cell_type": "code",
      "source": [
        "dict = {'a': 100, 'b': 200, 'c': 300, 'd': 400, 'e': 800}"
      ],
      "metadata": {
        "id": "HE2-SOFA_rEw"
      },
      "execution_count": 20,
      "outputs": []
    },
    {
      "cell_type": "code",
      "source": [
        "ds1= pd.Series(dict)"
      ],
      "metadata": {
        "id": "6pIC6Pdw_1sA"
      },
      "execution_count": 21,
      "outputs": []
    },
    {
      "cell_type": "code",
      "source": [
        "ds1"
      ],
      "metadata": {
        "colab": {
          "base_uri": "https://localhost:8080/"
        },
        "id": "WdLb7QAY_6ZM",
        "outputId": "2cceda22-2f4b-439c-c690-65207aceeffc"
      },
      "execution_count": 22,
      "outputs": [
        {
          "output_type": "execute_result",
          "data": {
            "text/plain": [
              "a    100\n",
              "b    200\n",
              "c    300\n",
              "d    400\n",
              "e    800\n",
              "dtype: int64"
            ]
          },
          "metadata": {},
          "execution_count": 22
        }
      ]
    },
    {
      "cell_type": "code",
      "source": [
        "#Write a Pandas program to convert a NumPy array to a Pandas series."
      ],
      "metadata": {
        "id": "MWsNFqDJ_7qu"
      },
      "execution_count": 23,
      "outputs": []
    },
    {
      "cell_type": "code",
      "source": [
        "import numpy as np"
      ],
      "metadata": {
        "id": "lj8rLUfgA1eR"
      },
      "execution_count": 24,
      "outputs": []
    },
    {
      "cell_type": "code",
      "source": [
        "np_array = np.array([1,2,3,4,5])"
      ],
      "metadata": {
        "id": "ZvvgZ00HA6HB"
      },
      "execution_count": 25,
      "outputs": []
    },
    {
      "cell_type": "code",
      "source": [
        "type(np_array)"
      ],
      "metadata": {
        "colab": {
          "base_uri": "https://localhost:8080/"
        },
        "id": "MrIuUwyJA-jU",
        "outputId": "8fa0c783-97cd-44cc-b4ca-90634fc6fc37"
      },
      "execution_count": 26,
      "outputs": [
        {
          "output_type": "execute_result",
          "data": {
            "text/plain": [
              "numpy.ndarray"
            ]
          },
          "metadata": {},
          "execution_count": 26
        }
      ]
    },
    {
      "cell_type": "code",
      "source": [
        "ds1 = pd.Series(np_array)"
      ],
      "metadata": {
        "id": "kfirppI5BAUu"
      },
      "execution_count": 27,
      "outputs": []
    },
    {
      "cell_type": "code",
      "source": [
        "type(ds1)"
      ],
      "metadata": {
        "colab": {
          "base_uri": "https://localhost:8080/"
        },
        "id": "h4FJaBlRBE7m",
        "outputId": "22660e7e-2a2f-410a-df3c-71d990b69d83"
      },
      "execution_count": 28,
      "outputs": [
        {
          "output_type": "execute_result",
          "data": {
            "text/plain": [
              "pandas.core.series.Series"
            ]
          },
          "metadata": {},
          "execution_count": 28
        }
      ]
    },
    {
      "cell_type": "code",
      "source": [
        "# 7. Write a Pandas program to change the data type of given a column or a Series."
      ],
      "metadata": {
        "id": "0MbScoHiBGfh"
      },
      "execution_count": 29,
      "outputs": []
    },
    {
      "cell_type": "code",
      "source": [
        "lst = ['100', '200', 'python', '300.12', '400']\n",
        "ds1 = pd.Series(lst)\n"
      ],
      "metadata": {
        "id": "hsWR_cvdBcqe"
      },
      "execution_count": 30,
      "outputs": []
    },
    {
      "cell_type": "code",
      "source": [
        "ds2 = pd.to_numeric(ds1, errors='coerce')"
      ],
      "metadata": {
        "id": "dvr2w7fdBm9l"
      },
      "execution_count": 31,
      "outputs": []
    },
    {
      "cell_type": "code",
      "source": [
        "#8. Write a Pandas program to convert the first column of a DataFrame as a Series"
      ],
      "metadata": {
        "id": "X0D4QqWXBzvc"
      },
      "execution_count": 32,
      "outputs": []
    },
    {
      "cell_type": "code",
      "source": [
        "dict = {'col1': [1,2,3,4,5],\n",
        " 'col2' : [6,7,8,9,1],\n",
        " 'col3': [2,3,4,5,6]}"
      ],
      "metadata": {
        "id": "4i7hRnXSDTYn"
      },
      "execution_count": 33,
      "outputs": []
    },
    {
      "cell_type": "code",
      "source": [
        "df = pd.DataFrame(dict)"
      ],
      "metadata": {
        "id": "GGx5nQUJDnvF"
      },
      "execution_count": 34,
      "outputs": []
    },
    {
      "cell_type": "code",
      "source": [
        "ds1 = pd.Series(df['col1'])"
      ],
      "metadata": {
        "id": "LXNdbO2FDqVV"
      },
      "execution_count": 35,
      "outputs": []
    },
    {
      "cell_type": "code",
      "source": [
        "ds1"
      ],
      "metadata": {
        "colab": {
          "base_uri": "https://localhost:8080/"
        },
        "id": "EghPzpa8DyBL",
        "outputId": "a4601dcc-4606-40f6-b9c9-f5392e517a42"
      },
      "execution_count": 36,
      "outputs": [
        {
          "output_type": "execute_result",
          "data": {
            "text/plain": [
              "0    1\n",
              "1    2\n",
              "2    3\n",
              "3    4\n",
              "4    5\n",
              "Name: col1, dtype: int64"
            ]
          },
          "metadata": {},
          "execution_count": 36
        }
      ]
    },
    {
      "cell_type": "code",
      "source": [
        "#Write a Pandas program to convert Series of lists to one Series"
      ],
      "metadata": {
        "id": "z8wIZmwiDzRm"
      },
      "execution_count": 37,
      "outputs": []
    },
    {
      "cell_type": "code",
      "source": [
        "\n",
        "s = pd.Series([\n",
        "    ['Red', 'Green', 'White'],\n",
        "    ['Red', 'Black'],\n",
        "    ['Yellow']])\n",
        "print(\"Original Series of list\")\n",
        "print(s)\n",
        "s = s.apply(pd.Series).stack().reset_index(drop=True)\n",
        "print(\"One Series\")\n",
        "print(s)\n"
      ],
      "metadata": {
        "id": "vEj6c4hUMm4P",
        "colab": {
          "base_uri": "https://localhost:8080/"
        },
        "outputId": "ffe2b197-6d60-4312-aa29-4c78dc95263d"
      },
      "execution_count": 38,
      "outputs": [
        {
          "output_type": "stream",
          "name": "stdout",
          "text": [
            "Original Series of list\n",
            "0    [Red, Green, White]\n",
            "1           [Red, Black]\n",
            "2               [Yellow]\n",
            "dtype: object\n",
            "One Series\n",
            "0       Red\n",
            "1     Green\n",
            "2     White\n",
            "3       Red\n",
            "4     Black\n",
            "5    Yellow\n",
            "dtype: object\n"
          ]
        }
      ]
    },
    {
      "cell_type": "code",
      "source": [
        "import pandas as pd"
      ],
      "metadata": {
        "id": "mb8ayUHnNEFd"
      },
      "execution_count": 39,
      "outputs": []
    },
    {
      "cell_type": "code",
      "source": [
        "s = pd.Series([\n",
        "    ['Red', 'Green', 'White'],\n",
        "    ['Red', 'Black'],\n",
        "    ['Yellow']])"
      ],
      "metadata": {
        "id": "OsQwie_8NCKK"
      },
      "execution_count": 40,
      "outputs": []
    },
    {
      "cell_type": "code",
      "source": [
        "s"
      ],
      "metadata": {
        "colab": {
          "base_uri": "https://localhost:8080/"
        },
        "id": "Rcy4_vmjNCrO",
        "outputId": "e49ac84b-571f-44d1-f5dd-19f6fee44ce8"
      },
      "execution_count": 41,
      "outputs": [
        {
          "output_type": "execute_result",
          "data": {
            "text/plain": [
              "0    [Red, Green, White]\n",
              "1           [Red, Black]\n",
              "2               [Yellow]\n",
              "dtype: object"
            ]
          },
          "metadata": {},
          "execution_count": 41
        }
      ]
    },
    {
      "cell_type": "code",
      "source": [
        "s = s.apply(pd.Series).stack().reset_index(drop=True)"
      ],
      "metadata": {
        "id": "CDTSzeseNIco"
      },
      "execution_count": 42,
      "outputs": []
    },
    {
      "cell_type": "code",
      "source": [
        "s"
      ],
      "metadata": {
        "colab": {
          "base_uri": "https://localhost:8080/"
        },
        "id": "hAtJgQ9UNS8J",
        "outputId": "d07a659f-b2af-45d6-8c19-603f6e4132c4"
      },
      "execution_count": 43,
      "outputs": [
        {
          "output_type": "execute_result",
          "data": {
            "text/plain": [
              "0       Red\n",
              "1     Green\n",
              "2     White\n",
              "3       Red\n",
              "4     Black\n",
              "5    Yellow\n",
              "dtype: object"
            ]
          },
          "metadata": {},
          "execution_count": 43
        }
      ]
    },
    {
      "cell_type": "code",
      "source": [
        "# 11. Write a Pandas program to sort a given Series."
      ],
      "metadata": {
        "id": "c3MRSlOeNV9F"
      },
      "execution_count": 44,
      "outputs": []
    },
    {
      "cell_type": "code",
      "source": [
        "s = pd.Series(['100', '200', 'python', '300.12', '400'])"
      ],
      "metadata": {
        "id": "yn6D6KfCNnzs"
      },
      "execution_count": 45,
      "outputs": []
    },
    {
      "cell_type": "code",
      "source": [
        "s.sort_values()"
      ],
      "metadata": {
        "colab": {
          "base_uri": "https://localhost:8080/"
        },
        "id": "gM2wz4BINsAm",
        "outputId": "a6b9a0d1-8504-4c56-fe51-1d5b0310a279"
      },
      "execution_count": 46,
      "outputs": [
        {
          "output_type": "execute_result",
          "data": {
            "text/plain": [
              "0       100\n",
              "1       200\n",
              "3    300.12\n",
              "4       400\n",
              "2    python\n",
              "dtype: object"
            ]
          },
          "metadata": {},
          "execution_count": 46
        }
      ]
    },
    {
      "cell_type": "code",
      "source": [
        "#12. Write a Pandas program to add some data to an existing Series."
      ],
      "metadata": {
        "id": "CB8VEJ_KNucg"
      },
      "execution_count": 47,
      "outputs": []
    },
    {
      "cell_type": "code",
      "source": [
        "s = pd.Series(['100', '200', 'python', '300.12', '400'])\n",
        "s2 = pd.Series(['100000'])"
      ],
      "metadata": {
        "id": "8FlR8uY-N8a0"
      },
      "execution_count": 48,
      "outputs": []
    },
    {
      "cell_type": "code",
      "source": [
        "s.append(s2)"
      ],
      "metadata": {
        "colab": {
          "base_uri": "https://localhost:8080/"
        },
        "id": "Rqx4CqWMOaaw",
        "outputId": "64580924-5155-409a-f68a-1fa068b0fe77"
      },
      "execution_count": 49,
      "outputs": [
        {
          "output_type": "execute_result",
          "data": {
            "text/plain": [
              "0       100\n",
              "1       200\n",
              "2    python\n",
              "3    300.12\n",
              "4       400\n",
              "0    100000\n",
              "dtype: object"
            ]
          },
          "metadata": {},
          "execution_count": 49
        }
      ]
    },
    {
      "cell_type": "code",
      "source": [
        "s.append(s2).reset_index(drop=True)\n",
        "\n"
      ],
      "metadata": {
        "colab": {
          "base_uri": "https://localhost:8080/"
        },
        "id": "FpuIjTVnOdLa",
        "outputId": "82819641-2080-4d8e-9424-bff0eb119f0c"
      },
      "execution_count": 50,
      "outputs": [
        {
          "output_type": "execute_result",
          "data": {
            "text/plain": [
              "0       100\n",
              "1       200\n",
              "2    python\n",
              "3    300.12\n",
              "4       400\n",
              "5    100000\n",
              "dtype: object"
            ]
          },
          "metadata": {},
          "execution_count": 50
        }
      ]
    },
    {
      "cell_type": "code",
      "source": [
        "s.append(s2).reset_index(drop=True)"
      ],
      "metadata": {
        "colab": {
          "base_uri": "https://localhost:8080/"
        },
        "id": "B0k_XmXgO3UW",
        "outputId": "0f5523eb-5b92-4196-a4b6-b1c4f862262c"
      },
      "execution_count": 51,
      "outputs": [
        {
          "output_type": "execute_result",
          "data": {
            "text/plain": [
              "0       100\n",
              "1       200\n",
              "2    python\n",
              "3    300.12\n",
              "4       400\n",
              "5    100000\n",
              "dtype: object"
            ]
          },
          "metadata": {},
          "execution_count": 51
        }
      ]
    },
    {
      "cell_type": "code",
      "source": [
        "s[:3]"
      ],
      "metadata": {
        "colab": {
          "base_uri": "https://localhost:8080/"
        },
        "id": "8zuhWPqMO8DQ",
        "outputId": "135c1e86-36c7-4700-c10c-34a555cd9dd4"
      },
      "execution_count": 52,
      "outputs": [
        {
          "output_type": "execute_result",
          "data": {
            "text/plain": [
              "0       100\n",
              "1       200\n",
              "2    python\n",
              "dtype: object"
            ]
          },
          "metadata": {},
          "execution_count": 52
        }
      ]
    },
    {
      "cell_type": "code",
      "source": [
        "#Change the order of index of a given series\n"
      ],
      "metadata": {
        "id": "xMmQQbQ4PM50"
      },
      "execution_count": 53,
      "outputs": []
    },
    {
      "cell_type": "code",
      "source": [
        "ds1 = pd.Series([1,2,3,4,5], index = ['a', 'b', 'c', 'd', 'e'])"
      ],
      "metadata": {
        "id": "OVcfrHXjPdea"
      },
      "execution_count": 54,
      "outputs": []
    },
    {
      "cell_type": "code",
      "source": [
        "ds1"
      ],
      "metadata": {
        "colab": {
          "base_uri": "https://localhost:8080/"
        },
        "id": "5m-sRGq-Pphi",
        "outputId": "6f7a24c1-7894-4557-8f79-936f02c713b3"
      },
      "execution_count": 55,
      "outputs": [
        {
          "output_type": "execute_result",
          "data": {
            "text/plain": [
              "a    1\n",
              "b    2\n",
              "c    3\n",
              "d    4\n",
              "e    5\n",
              "dtype: int64"
            ]
          },
          "metadata": {},
          "execution_count": 55
        }
      ]
    },
    {
      "cell_type": "code",
      "source": [
        "ds1.reindex(index= ['b', 'c', 'd', 'e', 'a'])"
      ],
      "metadata": {
        "colab": {
          "base_uri": "https://localhost:8080/"
        },
        "id": "2C_-QoTiPqym",
        "outputId": "f3909b03-c4c3-4219-cfbc-023896b876be"
      },
      "execution_count": 56,
      "outputs": [
        {
          "output_type": "execute_result",
          "data": {
            "text/plain": [
              "b    2\n",
              "c    3\n",
              "d    4\n",
              "e    5\n",
              "a    1\n",
              "dtype: int64"
            ]
          },
          "metadata": {},
          "execution_count": 56
        }
      ]
    },
    {
      "cell_type": "code",
      "source": [
        "import pandas as pd\n",
        "s = pd.Series(data = [1,2,3,4,5], index = ['A', 'B', 'C','D','E'])\n",
        "print(\"Original Data Series:\")\n",
        "print(s)\n",
        "s = s.reindex(index = ['B','A','C','D','E'])\n",
        "print(\"Data Series after changing the order of index:\")\n",
        "print(s)\n"
      ],
      "metadata": {
        "colab": {
          "base_uri": "https://localhost:8080/"
        },
        "id": "07JOSVEPP2fE",
        "outputId": "b133c3cf-e5f5-4720-abda-bcf9dbee895a"
      },
      "execution_count": 57,
      "outputs": [
        {
          "output_type": "stream",
          "name": "stdout",
          "text": [
            "Original Data Series:\n",
            "A    1\n",
            "B    2\n",
            "C    3\n",
            "D    4\n",
            "E    5\n",
            "dtype: int64\n",
            "Data Series after changing the order of index:\n",
            "B    2\n",
            "A    1\n",
            "C    3\n",
            "D    4\n",
            "E    5\n",
            "dtype: int64\n"
          ]
        }
      ]
    },
    {
      "cell_type": "code",
      "source": [
        "#Create the mean and standard deviation of the data of a given Series"
      ],
      "metadata": {
        "id": "1C6EdmjMQD4Y"
      },
      "execution_count": 58,
      "outputs": []
    },
    {
      "cell_type": "code",
      "source": [
        "ds1 = pd.Series([1,2,3,4,5])\n",
        "print('mean:', ds1.mean())\n",
        "print('std:', ds1.std())"
      ],
      "metadata": {
        "colab": {
          "base_uri": "https://localhost:8080/"
        },
        "id": "iCYbSsx2QjDG",
        "outputId": "27d5d54f-130c-4310-feae-01a86bc9a2e7"
      },
      "execution_count": 59,
      "outputs": [
        {
          "output_type": "stream",
          "name": "stdout",
          "text": [
            "mean: 3.0\n",
            "std: 1.5811388300841898\n"
          ]
        }
      ]
    },
    {
      "cell_type": "code",
      "source": [
        "# 16. Write a Pandas program to get the items of a given series not present in another given series"
      ],
      "metadata": {
        "id": "HnoJ8RpIQ01k"
      },
      "execution_count": 60,
      "outputs": []
    },
    {
      "cell_type": "code",
      "source": [
        "sr1 = pd.Series([1, 2, 3, 4, 5])\n",
        "sr2 = pd.Series([2, 4, 6, 8, 10])"
      ],
      "metadata": {
        "id": "n7NyHZUNREyn"
      },
      "execution_count": 61,
      "outputs": []
    },
    {
      "cell_type": "code",
      "source": [
        "result = sr1[sr1.isin(sr2)]\n",
        "result"
      ],
      "metadata": {
        "colab": {
          "base_uri": "https://localhost:8080/"
        },
        "id": "mbneNd1mSqsu",
        "outputId": "b04d0a56-e03e-40e6-9846-ba326050a580"
      },
      "execution_count": 62,
      "outputs": [
        {
          "output_type": "execute_result",
          "data": {
            "text/plain": [
              "1    2\n",
              "3    4\n",
              "dtype: int64"
            ]
          },
          "metadata": {},
          "execution_count": 62
        }
      ]
    },
    {
      "cell_type": "code",
      "source": [
        "result = sr1[~sr1.isin(sr2)]\n",
        "result"
      ],
      "metadata": {
        "colab": {
          "base_uri": "https://localhost:8080/"
        },
        "id": "KKwykw53Tdpb",
        "outputId": "db69ebb6-1ee8-42c7-eb0f-3a7d7a9265a5"
      },
      "execution_count": 63,
      "outputs": [
        {
          "output_type": "execute_result",
          "data": {
            "text/plain": [
              "0    1\n",
              "2    3\n",
              "4    5\n",
              "dtype: int64"
            ]
          },
          "metadata": {},
          "execution_count": 63
        }
      ]
    },
    {
      "cell_type": "code",
      "source": [
        "#17. Write a Pandas program to get the items which are not common of two given series."
      ],
      "metadata": {
        "id": "Og_hDTN3TkMy"
      },
      "execution_count": 64,
      "outputs": []
    },
    {
      "cell_type": "code",
      "source": [
        "import pandas as pd\n",
        "import numpy as np\n",
        "sr1 = pd.Series([1, 2, 3, 4, 5])\n",
        "sr2 = pd.Series([2, 4, 6, 8, 10])\n",
        "print(\"Original Series:\")\n",
        "print(\"sr1:\")\n",
        "print(sr1)\n",
        "print(\"sr2:\")\n",
        "print(sr2)\n",
        "print(\"\\nItems of a given series not present in another given series:\")\n",
        "sr11 = pd.Series(np.union1d(sr1, sr2))\n",
        "sr22 = pd.Series(np.intersect1d(sr1, sr2))\n",
        "result = sr11[~sr11.isin(sr22)]\n",
        "print(result)"
      ],
      "metadata": {
        "colab": {
          "base_uri": "https://localhost:8080/"
        },
        "id": "TIBg43TSTvQ7",
        "outputId": "a1a82612-2118-461c-90c1-041fc13da3a9"
      },
      "execution_count": 65,
      "outputs": [
        {
          "output_type": "stream",
          "name": "stdout",
          "text": [
            "Original Series:\n",
            "sr1:\n",
            "0    1\n",
            "1    2\n",
            "2    3\n",
            "3    4\n",
            "4    5\n",
            "dtype: int64\n",
            "sr2:\n",
            "0     2\n",
            "1     4\n",
            "2     6\n",
            "3     8\n",
            "4    10\n",
            "dtype: int64\n",
            "\n",
            "Items of a given series not present in another given series:\n",
            "0     1\n",
            "2     3\n",
            "4     5\n",
            "5     6\n",
            "6     8\n",
            "7    10\n",
            "dtype: int64\n"
          ]
        }
      ]
    },
    {
      "cell_type": "code",
      "source": [
        "sr11"
      ],
      "metadata": {
        "colab": {
          "base_uri": "https://localhost:8080/"
        },
        "id": "o2XSq9_XVUxH",
        "outputId": "aee26f88-887c-439f-c5ed-385e1d22a24b"
      },
      "execution_count": 66,
      "outputs": [
        {
          "output_type": "execute_result",
          "data": {
            "text/plain": [
              "0     1\n",
              "1     2\n",
              "2     3\n",
              "3     4\n",
              "4     5\n",
              "5     6\n",
              "6     8\n",
              "7    10\n",
              "dtype: int64"
            ]
          },
          "metadata": {},
          "execution_count": 66
        }
      ]
    },
    {
      "cell_type": "code",
      "source": [
        "sr22"
      ],
      "metadata": {
        "colab": {
          "base_uri": "https://localhost:8080/"
        },
        "id": "PTqtET7oVYdS",
        "outputId": "aa46683a-93a0-4a85-9a7b-9d2483f0684e"
      },
      "execution_count": 67,
      "outputs": [
        {
          "output_type": "execute_result",
          "data": {
            "text/plain": [
              "0    2\n",
              "1    4\n",
              "dtype: int64"
            ]
          },
          "metadata": {},
          "execution_count": 67
        }
      ]
    },
    {
      "cell_type": "code",
      "source": [
        "result = sr11[~sr11.isin(sr22)]\n",
        "result"
      ],
      "metadata": {
        "colab": {
          "base_uri": "https://localhost:8080/"
        },
        "id": "6ectulDWVdrj",
        "outputId": "c1473fef-1a6f-4b76-99a8-218841b4bd0b"
      },
      "execution_count": 68,
      "outputs": [
        {
          "output_type": "execute_result",
          "data": {
            "text/plain": [
              "0     1\n",
              "2     3\n",
              "4     5\n",
              "5     6\n",
              "6     8\n",
              "7    10\n",
              "dtype: int64"
            ]
          },
          "metadata": {},
          "execution_count": 68
        }
      ]
    },
    {
      "cell_type": "code",
      "source": [
        "# Write a Pandas program to calculate the frequency counts of each unique value of a given series."
      ],
      "metadata": {
        "id": "G5l3ji2rVld7"
      },
      "execution_count": 69,
      "outputs": []
    },
    {
      "cell_type": "code",
      "source": [
        "sr1 = pd.Series([1, 2, 3, 4, 5])"
      ],
      "metadata": {
        "id": "ZRdNttvh_hKl"
      },
      "execution_count": 70,
      "outputs": []
    },
    {
      "cell_type": "code",
      "source": [
        "sr1.value_counts()"
      ],
      "metadata": {
        "colab": {
          "base_uri": "https://localhost:8080/"
        },
        "id": "HKVqAYcr_meO",
        "outputId": "4b0229df-c149-4c39-bb93-58f23c5ea2c7"
      },
      "execution_count": 71,
      "outputs": [
        {
          "output_type": "execute_result",
          "data": {
            "text/plain": [
              "1    1\n",
              "2    1\n",
              "3    1\n",
              "4    1\n",
              "5    1\n",
              "dtype: int64"
            ]
          },
          "metadata": {},
          "execution_count": 71
        }
      ]
    },
    {
      "cell_type": "code",
      "source": [
        "#Find the positions of numbers that are multiples of 5 of a given series"
      ],
      "metadata": {
        "id": "Oeb_N2Ju_4fj"
      },
      "execution_count": 72,
      "outputs": []
    },
    {
      "cell_type": "code",
      "source": [
        "import pandas as pd\n",
        "import numpy as np\n",
        "num_series = pd.Series(np.random.randint(1, 10, 9))\n",
        "print(\"Original Series:\")\n",
        "print(num_series)\n",
        "result = np.where(num_series % 5==0)\n",
        "print(\"Positions of numbers that are multiples of 5:\")\n",
        "print(result)\n"
      ],
      "metadata": {
        "colab": {
          "base_uri": "https://localhost:8080/"
        },
        "id": "AQB3yGIWAREx",
        "outputId": "4446b8ee-8fa2-4e9f-9f33-d5c821fbdde4"
      },
      "execution_count": 73,
      "outputs": [
        {
          "output_type": "stream",
          "name": "stdout",
          "text": [
            "Original Series:\n",
            "0    8\n",
            "1    9\n",
            "2    5\n",
            "3    6\n",
            "4    4\n",
            "5    8\n",
            "6    4\n",
            "7    6\n",
            "8    2\n",
            "dtype: int64\n",
            "Positions of numbers that are multiples of 5:\n",
            "(array([2]),)\n"
          ]
        }
      ]
    },
    {
      "cell_type": "code",
      "source": [
        "lst = [1,2,3,4,5]\n",
        "ds1 = pd.Series(lst)"
      ],
      "metadata": {
        "id": "K7hy1fWKARBO"
      },
      "execution_count": 74,
      "outputs": []
    },
    {
      "cell_type": "code",
      "source": [
        "result = np.where(ds1%5==0)"
      ],
      "metadata": {
        "id": "icrWB9XvAQ-0"
      },
      "execution_count": 75,
      "outputs": []
    },
    {
      "cell_type": "code",
      "source": [
        "result"
      ],
      "metadata": {
        "colab": {
          "base_uri": "https://localhost:8080/"
        },
        "id": "p2KiHPolAQ8g",
        "outputId": "f853c386-893f-478b-b15a-9faa4607dfa6"
      },
      "execution_count": 76,
      "outputs": [
        {
          "output_type": "execute_result",
          "data": {
            "text/plain": [
              "(array([4]),)"
            ]
          },
          "metadata": {},
          "execution_count": 76
        }
      ]
    },
    {
      "cell_type": "code",
      "source": [
        "#Extract items at given positions of a given series"
      ],
      "metadata": {
        "id": "8UUuZW_rAQwj"
      },
      "execution_count": 77,
      "outputs": []
    },
    {
      "cell_type": "code",
      "source": [
        "num_series = pd.Series(list('2390238923902390239023'))\n",
        "num_series"
      ],
      "metadata": {
        "colab": {
          "base_uri": "https://localhost:8080/"
        },
        "id": "Oh69uWuzAQtJ",
        "outputId": "4d245a9a-db74-4135-a6a8-e41f5124a494"
      },
      "execution_count": 86,
      "outputs": [
        {
          "output_type": "execute_result",
          "data": {
            "text/plain": [
              "0     2\n",
              "1     3\n",
              "2     9\n",
              "3     0\n",
              "4     2\n",
              "5     3\n",
              "6     8\n",
              "7     9\n",
              "8     2\n",
              "9     3\n",
              "10    9\n",
              "11    0\n",
              "12    2\n",
              "13    3\n",
              "14    9\n",
              "15    0\n",
              "16    2\n",
              "17    3\n",
              "18    9\n",
              "19    0\n",
              "20    2\n",
              "21    3\n",
              "dtype: object"
            ]
          },
          "metadata": {},
          "execution_count": 86
        }
      ]
    },
    {
      "cell_type": "code",
      "source": [
        "elements = num_series.take([0])"
      ],
      "metadata": {
        "id": "9SsoYGXFA_JP"
      },
      "execution_count": 82,
      "outputs": []
    },
    {
      "cell_type": "code",
      "source": [
        "elements"
      ],
      "metadata": {
        "colab": {
          "base_uri": "https://localhost:8080/"
        },
        "id": "d8tuc9EMBBSv",
        "outputId": "c0056325-972c-481b-a189-7bc8527bdc26"
      },
      "execution_count": 83,
      "outputs": [
        {
          "output_type": "execute_result",
          "data": {
            "text/plain": [
              "0    2\n",
              "dtype: object"
            ]
          },
          "metadata": {},
          "execution_count": 83
        }
      ]
    },
    {
      "cell_type": "code",
      "source": [
        "#25. Write a Pandas program to calculate the number of characters in each word in a given series."
      ],
      "metadata": {
        "id": "aRBQ60M-BTnx"
      },
      "execution_count": 88,
      "outputs": []
    },
    {
      "cell_type": "code",
      "source": [
        "series1 = pd.Series(['php', 'python', 'java', 'c#'])"
      ],
      "metadata": {
        "id": "nDoZyFfMBVQo"
      },
      "execution_count": 89,
      "outputs": []
    },
    {
      "cell_type": "code",
      "source": [
        "import pandas as pd\n",
        "series1 = pd.Series(['php', 'python', 'java', 'c#'])\n",
        "print(\"Original Series:\")\n",
        "print(series1)\n",
        "result = series1.map(lambda x: x[0].upper() + x[1:-1] + x[-1].upper())\n",
        "print(\"\\nFirst and last character of each word to upper case:\")\n",
        "print(result)\n"
      ],
      "metadata": {
        "colab": {
          "base_uri": "https://localhost:8080/"
        },
        "id": "a4lwU9qXB1YK",
        "outputId": "082b8608-a353-4b90-958a-9302f9678c36"
      },
      "execution_count": 104,
      "outputs": [
        {
          "output_type": "stream",
          "name": "stdout",
          "text": [
            "Original Series:\n",
            "0       php\n",
            "1    python\n",
            "2      java\n",
            "3        c#\n",
            "dtype: object\n",
            "\n",
            "First and last character of each word to upper case:\n",
            "0       PhP\n",
            "1    PythoN\n",
            "2      JavA\n",
            "3        C#\n",
            "dtype: object\n"
          ]
        }
      ]
    },
    {
      "cell_type": "code",
      "source": [
        "re = series1.map(lambda x: x[0].upper()  + x[1:-1]  + x[-1].upper())\n",
        "print(re)"
      ],
      "metadata": {
        "colab": {
          "base_uri": "https://localhost:8080/"
        },
        "id": "c4cuov-XB-yl",
        "outputId": "42f113f9-879a-4755-a164-4efeab846cef"
      },
      "execution_count": 105,
      "outputs": [
        {
          "output_type": "stream",
          "name": "stdout",
          "text": [
            "0       PhP\n",
            "1    PythoN\n",
            "2      JavA\n",
            "3        C#\n",
            "dtype: object\n"
          ]
        }
      ]
    },
    {
      "cell_type": "code",
      "source": [
        "#26. Write a Pandas program to compute difference of differences between consecutive numbers of a given series."
      ],
      "metadata": {
        "id": "DysBUVdECAQe"
      },
      "execution_count": 106,
      "outputs": []
    },
    {
      "cell_type": "code",
      "source": [
        "lst = [1,2,3,4,5]\n",
        "ds1 = pd.Series(lst)"
      ],
      "metadata": {
        "id": "HUQuBdkoDPrD"
      },
      "execution_count": 107,
      "outputs": []
    }
  ]
}