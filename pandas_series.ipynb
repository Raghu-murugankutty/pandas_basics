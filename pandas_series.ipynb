{
  "nbformat": 4,
  "nbformat_minor": 0,
  "metadata": {
    "colab": {
      "provenance": []
    },
    "kernelspec": {
      "name": "python3",
      "display_name": "Python 3"
    },
    "language_info": {
      "name": "python"
    }
  },
  "cells": [
    {
      "cell_type": "code",
      "source": [
        "# Write a Pandas program to create and display a one-dimensional array-like object containing an array of data.\n"
      ],
      "metadata": {
        "id": "t_xj10ln9T-r"
      },
      "execution_count": null,
      "outputs": []
    },
    {
      "cell_type": "code",
      "execution_count": 1,
      "metadata": {
        "id": "2nf9dJCC8QoY"
      },
      "outputs": [],
      "source": [
        "import pandas as pd"
      ]
    },
    {
      "cell_type": "code",
      "source": [
        "lst = [1,2,3,4,5]\n",
        "s1 = pd.Series(lst)"
      ],
      "metadata": {
        "id": "IE62-nRu8Z-Y"
      },
      "execution_count": 3,
      "outputs": []
    },
    {
      "cell_type": "code",
      "source": [
        "s1"
      ],
      "metadata": {
        "colab": {
          "base_uri": "https://localhost:8080/"
        },
        "id": "w9kMtDux9JWJ",
        "outputId": "0d560af9-5c52-4bf9-c8bf-724481a703d1"
      },
      "execution_count": 4,
      "outputs": [
        {
          "output_type": "execute_result",
          "data": {
            "text/plain": [
              "0    1\n",
              "1    2\n",
              "2    3\n",
              "3    4\n",
              "4    5\n",
              "dtype: int64"
            ]
          },
          "metadata": {},
          "execution_count": 4
        }
      ]
    },
    {
      "cell_type": "code",
      "source": [
        "#2. Write a Pandas program to convert a Panda module Series to Python list and it's type."
      ],
      "metadata": {
        "id": "8yh_4apL9Mjg"
      },
      "execution_count": 5,
      "outputs": []
    },
    {
      "cell_type": "code",
      "source": [
        "lst = [1,2,3]\n",
        "s2 = pd.Series(lst)\n",
        "lst1 = s2.tolist()"
      ],
      "metadata": {
        "id": "veRZISjP9fz0"
      },
      "execution_count": 7,
      "outputs": []
    },
    {
      "cell_type": "code",
      "source": [
        "print('lst',type(lst))\n",
        "print('s2',type(s2))\n",
        "print('last1',type(lst1))"
      ],
      "metadata": {
        "colab": {
          "base_uri": "https://localhost:8080/"
        },
        "id": "f5hFQxN_9trR",
        "outputId": "b62af4c3-8a91-4a94-ad73-674a8f7c1aa2"
      },
      "execution_count": 9,
      "outputs": [
        {
          "output_type": "stream",
          "name": "stdout",
          "text": [
            "lst <class 'list'>\n",
            "s2 <class 'pandas.core.series.Series'>\n",
            "last1 <class 'list'>\n"
          ]
        }
      ]
    },
    {
      "cell_type": "code",
      "source": [
        "#3. Write a Pandas program to add, subtract, multiple and divide two Pandas Series. "
      ],
      "metadata": {
        "id": "7qlB9aai-BN9"
      },
      "execution_count": 10,
      "outputs": []
    },
    {
      "cell_type": "code",
      "source": [
        "s1 = pd.Series([1,2,3])\n",
        "s2 = pd.Series([4,4,5])"
      ],
      "metadata": {
        "id": "N1mp0LF5-RZV"
      },
      "execution_count": 11,
      "outputs": []
    },
    {
      "cell_type": "code",
      "source": [
        "sum = s1+s2"
      ],
      "metadata": {
        "id": "DV8cOdVy-ZOn"
      },
      "execution_count": 12,
      "outputs": []
    },
    {
      "cell_type": "code",
      "source": [
        "mult = s1*s2\n",
        "div = s1/s1\n",
        "sub = s1-s2"
      ],
      "metadata": {
        "id": "vZlb8A7_-cWO"
      },
      "execution_count": 14,
      "outputs": []
    },
    {
      "cell_type": "code",
      "source": [
        "#Write a Pandas program to compare the elements of the two Pandas Series. "
      ],
      "metadata": {
        "id": "WSEBAZnb-djE"
      },
      "execution_count": 15,
      "outputs": []
    },
    {
      "cell_type": "code",
      "source": [
        "s1 = pd.Series([1,2,3])\n",
        "s2 = pd.Series([4,4,5])"
      ],
      "metadata": {
        "id": "WEG7mS3L-7M7"
      },
      "execution_count": 16,
      "outputs": []
    },
    {
      "cell_type": "code",
      "source": [
        "print(\"Equals\")\n",
        "print(s1==s2)"
      ],
      "metadata": {
        "colab": {
          "base_uri": "https://localhost:8080/"
        },
        "id": "GQcU7Ip5_GvU",
        "outputId": "9e4a92ef-2acb-484b-d306-d00c1dc80839"
      },
      "execution_count": 20,
      "outputs": [
        {
          "output_type": "stream",
          "name": "stdout",
          "text": [
            "Equals\n",
            "0    False\n",
            "1    False\n",
            "2    False\n",
            "dtype: bool\n"
          ]
        }
      ]
    },
    {
      "cell_type": "code",
      "source": [
        "print(\"Greater than:\")\n",
        "print(s1 > s2)"
      ],
      "metadata": {
        "colab": {
          "base_uri": "https://localhost:8080/"
        },
        "id": "HwRfAZDM_JlY",
        "outputId": "cc0b747b-0ba2-48f9-8f38-8c85cc6a3b07"
      },
      "execution_count": 19,
      "outputs": [
        {
          "output_type": "stream",
          "name": "stdout",
          "text": [
            "Greater than:\n",
            "0    False\n",
            "1    False\n",
            "2    False\n",
            "dtype: bool\n"
          ]
        }
      ]
    },
    {
      "cell_type": "code",
      "source": [
        "print('less than')\n",
        "print(s1<s2)"
      ],
      "metadata": {
        "colab": {
          "base_uri": "https://localhost:8080/"
        },
        "id": "FF1pgHJm_P8r",
        "outputId": "a44ea6ec-7ed7-4c15-a959-8df2e356be8d"
      },
      "execution_count": 22,
      "outputs": [
        {
          "output_type": "stream",
          "name": "stdout",
          "text": [
            "less than\n",
            "0    True\n",
            "1    True\n",
            "2    True\n",
            "dtype: bool\n"
          ]
        }
      ]
    },
    {
      "cell_type": "code",
      "source": [
        "#5. Write a Pandas program to convert a dictionary to a Pandas series."
      ],
      "metadata": {
        "id": "RTib3nkz_eew"
      },
      "execution_count": 23,
      "outputs": []
    },
    {
      "cell_type": "code",
      "source": [
        "dict = {'a': 100, 'b': 200, 'c': 300, 'd': 400, 'e': 800}"
      ],
      "metadata": {
        "id": "HE2-SOFA_rEw"
      },
      "execution_count": 24,
      "outputs": []
    },
    {
      "cell_type": "code",
      "source": [
        "ds1= pd.Series(dict)"
      ],
      "metadata": {
        "id": "6pIC6Pdw_1sA"
      },
      "execution_count": 25,
      "outputs": []
    },
    {
      "cell_type": "code",
      "source": [
        "ds1"
      ],
      "metadata": {
        "colab": {
          "base_uri": "https://localhost:8080/"
        },
        "id": "WdLb7QAY_6ZM",
        "outputId": "0d589b45-a61e-4723-cf4d-dea3e7238e0b"
      },
      "execution_count": 26,
      "outputs": [
        {
          "output_type": "execute_result",
          "data": {
            "text/plain": [
              "a    100\n",
              "b    200\n",
              "c    300\n",
              "d    400\n",
              "e    800\n",
              "dtype: int64"
            ]
          },
          "metadata": {},
          "execution_count": 26
        }
      ]
    },
    {
      "cell_type": "code",
      "source": [
        "#Write a Pandas program to convert a NumPy array to a Pandas series."
      ],
      "metadata": {
        "id": "MWsNFqDJ_7qu"
      },
      "execution_count": 27,
      "outputs": []
    },
    {
      "cell_type": "code",
      "source": [
        "import numpy as np"
      ],
      "metadata": {
        "id": "lj8rLUfgA1eR"
      },
      "execution_count": 28,
      "outputs": []
    },
    {
      "cell_type": "code",
      "source": [
        "np_array = np.array([1,2,3,4,5])"
      ],
      "metadata": {
        "id": "ZvvgZ00HA6HB"
      },
      "execution_count": 29,
      "outputs": []
    },
    {
      "cell_type": "code",
      "source": [
        "type(np_array)"
      ],
      "metadata": {
        "colab": {
          "base_uri": "https://localhost:8080/"
        },
        "id": "MrIuUwyJA-jU",
        "outputId": "b6332808-9111-4b5d-c80d-44088d841ac7"
      },
      "execution_count": 30,
      "outputs": [
        {
          "output_type": "execute_result",
          "data": {
            "text/plain": [
              "numpy.ndarray"
            ]
          },
          "metadata": {},
          "execution_count": 30
        }
      ]
    },
    {
      "cell_type": "code",
      "source": [
        "ds1 = pd.Series(np_array)"
      ],
      "metadata": {
        "id": "kfirppI5BAUu"
      },
      "execution_count": 31,
      "outputs": []
    },
    {
      "cell_type": "code",
      "source": [
        "type(ds1)"
      ],
      "metadata": {
        "colab": {
          "base_uri": "https://localhost:8080/"
        },
        "id": "h4FJaBlRBE7m",
        "outputId": "03a7090d-0a25-42d4-a624-043762c3fd7d"
      },
      "execution_count": 32,
      "outputs": [
        {
          "output_type": "execute_result",
          "data": {
            "text/plain": [
              "pandas.core.series.Series"
            ]
          },
          "metadata": {},
          "execution_count": 32
        }
      ]
    },
    {
      "cell_type": "code",
      "source": [
        "# 7. Write a Pandas program to change the data type of given a column or a Series."
      ],
      "metadata": {
        "id": "0MbScoHiBGfh"
      },
      "execution_count": 33,
      "outputs": []
    },
    {
      "cell_type": "code",
      "source": [
        "lst = ['100', '200', 'python', '300.12', '400']\n",
        "ds1 = pd.Series(lst)\n"
      ],
      "metadata": {
        "id": "hsWR_cvdBcqe"
      },
      "execution_count": 34,
      "outputs": []
    },
    {
      "cell_type": "code",
      "source": [
        "ds2 = pd.to_numeric(ds1, errors='coerce')"
      ],
      "metadata": {
        "id": "dvr2w7fdBm9l"
      },
      "execution_count": 36,
      "outputs": []
    },
    {
      "cell_type": "code",
      "source": [
        "#8. Write a Pandas program to convert the first column of a DataFrame as a Series"
      ],
      "metadata": {
        "id": "X0D4QqWXBzvc"
      },
      "execution_count": 37,
      "outputs": []
    },
    {
      "cell_type": "code",
      "source": [
        "dict = {'col1': [1,2,3,4,5],\n",
        " 'col2' : [6,7,8,9,1],\n",
        " 'col3': [2,3,4,5,6]}"
      ],
      "metadata": {
        "id": "4i7hRnXSDTYn"
      },
      "execution_count": 38,
      "outputs": []
    },
    {
      "cell_type": "code",
      "source": [
        "df = pd.DataFrame(dict)"
      ],
      "metadata": {
        "id": "GGx5nQUJDnvF"
      },
      "execution_count": 40,
      "outputs": []
    },
    {
      "cell_type": "code",
      "source": [
        "ds1 = pd.Series(df['col1'])"
      ],
      "metadata": {
        "id": "LXNdbO2FDqVV"
      },
      "execution_count": 41,
      "outputs": []
    },
    {
      "cell_type": "code",
      "source": [
        "ds1"
      ],
      "metadata": {
        "colab": {
          "base_uri": "https://localhost:8080/"
        },
        "id": "EghPzpa8DyBL",
        "outputId": "542994c4-e1c6-4656-89e6-b67cce88fcde"
      },
      "execution_count": 42,
      "outputs": [
        {
          "output_type": "execute_result",
          "data": {
            "text/plain": [
              "0    1\n",
              "1    2\n",
              "2    3\n",
              "3    4\n",
              "4    5\n",
              "Name: col1, dtype: int64"
            ]
          },
          "metadata": {},
          "execution_count": 42
        }
      ]
    },
    {
      "cell_type": "code",
      "source": [],
      "metadata": {
        "id": "z8wIZmwiDzRm"
      },
      "execution_count": null,
      "outputs": []
    }
  ]
}