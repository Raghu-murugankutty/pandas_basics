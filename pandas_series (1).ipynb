{
  "nbformat": 4,
  "nbformat_minor": 0,
  "metadata": {
    "colab": {
      "provenance": []
    },
    "kernelspec": {
      "name": "python3",
      "display_name": "Python 3"
    },
    "language_info": {
      "name": "python"
    }
  },
  "cells": [
    {
      "cell_type": "code",
      "source": [
        "# Write a Pandas program to create and display a one-dimensional array-like object containing an array of data.\n"
      ],
      "metadata": {
        "id": "t_xj10ln9T-r"
      },
      "execution_count": null,
      "outputs": []
    },
    {
      "cell_type": "code",
      "execution_count": null,
      "metadata": {
        "id": "2nf9dJCC8QoY"
      },
      "outputs": [],
      "source": [
        "import pandas as pd"
      ]
    },
    {
      "cell_type": "code",
      "source": [
        "lst = [1,2,3,4,5]\n",
        "s1 = pd.Series(lst)"
      ],
      "metadata": {
        "id": "IE62-nRu8Z-Y"
      },
      "execution_count": null,
      "outputs": []
    },
    {
      "cell_type": "code",
      "source": [
        "s1"
      ],
      "metadata": {
        "colab": {
          "base_uri": "https://localhost:8080/"
        },
        "id": "w9kMtDux9JWJ",
        "outputId": "0d560af9-5c52-4bf9-c8bf-724481a703d1"
      },
      "execution_count": null,
      "outputs": [
        {
          "output_type": "execute_result",
          "data": {
            "text/plain": [
              "0    1\n",
              "1    2\n",
              "2    3\n",
              "3    4\n",
              "4    5\n",
              "dtype: int64"
            ]
          },
          "metadata": {},
          "execution_count": 4
        }
      ]
    },
    {
      "cell_type": "code",
      "source": [
        "#2. Write a Pandas program to convert a Panda module Series to Python list and it's type."
      ],
      "metadata": {
        "id": "8yh_4apL9Mjg"
      },
      "execution_count": null,
      "outputs": []
    },
    {
      "cell_type": "code",
      "source": [
        "lst = [1,2,3]\n",
        "s2 = pd.Series(lst)\n",
        "lst1 = s2.tolist()"
      ],
      "metadata": {
        "id": "veRZISjP9fz0"
      },
      "execution_count": null,
      "outputs": []
    },
    {
      "cell_type": "code",
      "source": [
        "print('lst',type(lst))\n",
        "print('s2',type(s2))\n",
        "print('last1',type(lst1))"
      ],
      "metadata": {
        "colab": {
          "base_uri": "https://localhost:8080/"
        },
        "id": "f5hFQxN_9trR",
        "outputId": "b62af4c3-8a91-4a94-ad73-674a8f7c1aa2"
      },
      "execution_count": null,
      "outputs": [
        {
          "output_type": "stream",
          "name": "stdout",
          "text": [
            "lst <class 'list'>\n",
            "s2 <class 'pandas.core.series.Series'>\n",
            "last1 <class 'list'>\n"
          ]
        }
      ]
    },
    {
      "cell_type": "code",
      "source": [
        "#3. Write a Pandas program to add, subtract, multiple and divide two Pandas Series. "
      ],
      "metadata": {
        "id": "7qlB9aai-BN9"
      },
      "execution_count": null,
      "outputs": []
    },
    {
      "cell_type": "code",
      "source": [
        "s1 = pd.Series([1,2,3])\n",
        "s2 = pd.Series([4,4,5])"
      ],
      "metadata": {
        "id": "N1mp0LF5-RZV"
      },
      "execution_count": null,
      "outputs": []
    },
    {
      "cell_type": "code",
      "source": [
        "sum = s1+s2"
      ],
      "metadata": {
        "id": "DV8cOdVy-ZOn"
      },
      "execution_count": null,
      "outputs": []
    },
    {
      "cell_type": "code",
      "source": [
        "mult = s1*s2\n",
        "div = s1/s1\n",
        "sub = s1-s2"
      ],
      "metadata": {
        "id": "vZlb8A7_-cWO"
      },
      "execution_count": null,
      "outputs": []
    },
    {
      "cell_type": "code",
      "source": [
        "#Write a Pandas program to compare the elements of the two Pandas Series. "
      ],
      "metadata": {
        "id": "WSEBAZnb-djE"
      },
      "execution_count": null,
      "outputs": []
    },
    {
      "cell_type": "code",
      "source": [
        "s1 = pd.Series([1,2,3])\n",
        "s2 = pd.Series([4,4,5])"
      ],
      "metadata": {
        "id": "WEG7mS3L-7M7"
      },
      "execution_count": null,
      "outputs": []
    },
    {
      "cell_type": "code",
      "source": [
        "print(\"Equals\")\n",
        "print(s1==s2)"
      ],
      "metadata": {
        "colab": {
          "base_uri": "https://localhost:8080/"
        },
        "id": "GQcU7Ip5_GvU",
        "outputId": "9e4a92ef-2acb-484b-d306-d00c1dc80839"
      },
      "execution_count": null,
      "outputs": [
        {
          "output_type": "stream",
          "name": "stdout",
          "text": [
            "Equals\n",
            "0    False\n",
            "1    False\n",
            "2    False\n",
            "dtype: bool\n"
          ]
        }
      ]
    },
    {
      "cell_type": "code",
      "source": [
        "print(\"Greater than:\")\n",
        "print(s1 > s2)"
      ],
      "metadata": {
        "colab": {
          "base_uri": "https://localhost:8080/"
        },
        "id": "HwRfAZDM_JlY",
        "outputId": "cc0b747b-0ba2-48f9-8f38-8c85cc6a3b07"
      },
      "execution_count": null,
      "outputs": [
        {
          "output_type": "stream",
          "name": "stdout",
          "text": [
            "Greater than:\n",
            "0    False\n",
            "1    False\n",
            "2    False\n",
            "dtype: bool\n"
          ]
        }
      ]
    },
    {
      "cell_type": "code",
      "source": [
        "print('less than')\n",
        "print(s1<s2)"
      ],
      "metadata": {
        "colab": {
          "base_uri": "https://localhost:8080/"
        },
        "id": "FF1pgHJm_P8r",
        "outputId": "a44ea6ec-7ed7-4c15-a959-8df2e356be8d"
      },
      "execution_count": null,
      "outputs": [
        {
          "output_type": "stream",
          "name": "stdout",
          "text": [
            "less than\n",
            "0    True\n",
            "1    True\n",
            "2    True\n",
            "dtype: bool\n"
          ]
        }
      ]
    },
    {
      "cell_type": "code",
      "source": [
        "#5. Write a Pandas program to convert a dictionary to a Pandas series."
      ],
      "metadata": {
        "id": "RTib3nkz_eew"
      },
      "execution_count": null,
      "outputs": []
    },
    {
      "cell_type": "code",
      "source": [
        "dict = {'a': 100, 'b': 200, 'c': 300, 'd': 400, 'e': 800}"
      ],
      "metadata": {
        "id": "HE2-SOFA_rEw"
      },
      "execution_count": null,
      "outputs": []
    },
    {
      "cell_type": "code",
      "source": [
        "ds1= pd.Series(dict)"
      ],
      "metadata": {
        "id": "6pIC6Pdw_1sA"
      },
      "execution_count": null,
      "outputs": []
    },
    {
      "cell_type": "code",
      "source": [
        "ds1"
      ],
      "metadata": {
        "colab": {
          "base_uri": "https://localhost:8080/"
        },
        "id": "WdLb7QAY_6ZM",
        "outputId": "0d589b45-a61e-4723-cf4d-dea3e7238e0b"
      },
      "execution_count": null,
      "outputs": [
        {
          "output_type": "execute_result",
          "data": {
            "text/plain": [
              "a    100\n",
              "b    200\n",
              "c    300\n",
              "d    400\n",
              "e    800\n",
              "dtype: int64"
            ]
          },
          "metadata": {},
          "execution_count": 26
        }
      ]
    },
    {
      "cell_type": "code",
      "source": [
        "#Write a Pandas program to convert a NumPy array to a Pandas series."
      ],
      "metadata": {
        "id": "MWsNFqDJ_7qu"
      },
      "execution_count": null,
      "outputs": []
    },
    {
      "cell_type": "code",
      "source": [
        "import numpy as np"
      ],
      "metadata": {
        "id": "lj8rLUfgA1eR"
      },
      "execution_count": null,
      "outputs": []
    },
    {
      "cell_type": "code",
      "source": [
        "np_array = np.array([1,2,3,4,5])"
      ],
      "metadata": {
        "id": "ZvvgZ00HA6HB"
      },
      "execution_count": null,
      "outputs": []
    },
    {
      "cell_type": "code",
      "source": [
        "type(np_array)"
      ],
      "metadata": {
        "colab": {
          "base_uri": "https://localhost:8080/"
        },
        "id": "MrIuUwyJA-jU",
        "outputId": "b6332808-9111-4b5d-c80d-44088d841ac7"
      },
      "execution_count": null,
      "outputs": [
        {
          "output_type": "execute_result",
          "data": {
            "text/plain": [
              "numpy.ndarray"
            ]
          },
          "metadata": {},
          "execution_count": 30
        }
      ]
    },
    {
      "cell_type": "code",
      "source": [
        "ds1 = pd.Series(np_array)"
      ],
      "metadata": {
        "id": "kfirppI5BAUu"
      },
      "execution_count": null,
      "outputs": []
    },
    {
      "cell_type": "code",
      "source": [
        "type(ds1)"
      ],
      "metadata": {
        "colab": {
          "base_uri": "https://localhost:8080/"
        },
        "id": "h4FJaBlRBE7m",
        "outputId": "03a7090d-0a25-42d4-a624-043762c3fd7d"
      },
      "execution_count": null,
      "outputs": [
        {
          "output_type": "execute_result",
          "data": {
            "text/plain": [
              "pandas.core.series.Series"
            ]
          },
          "metadata": {},
          "execution_count": 32
        }
      ]
    },
    {
      "cell_type": "code",
      "source": [
        "# 7. Write a Pandas program to change the data type of given a column or a Series."
      ],
      "metadata": {
        "id": "0MbScoHiBGfh"
      },
      "execution_count": null,
      "outputs": []
    },
    {
      "cell_type": "code",
      "source": [
        "lst = ['100', '200', 'python', '300.12', '400']\n",
        "ds1 = pd.Series(lst)\n"
      ],
      "metadata": {
        "id": "hsWR_cvdBcqe"
      },
      "execution_count": null,
      "outputs": []
    },
    {
      "cell_type": "code",
      "source": [
        "ds2 = pd.to_numeric(ds1, errors='coerce')"
      ],
      "metadata": {
        "id": "dvr2w7fdBm9l"
      },
      "execution_count": null,
      "outputs": []
    },
    {
      "cell_type": "code",
      "source": [
        "#8. Write a Pandas program to convert the first column of a DataFrame as a Series"
      ],
      "metadata": {
        "id": "X0D4QqWXBzvc"
      },
      "execution_count": null,
      "outputs": []
    },
    {
      "cell_type": "code",
      "source": [
        "dict = {'col1': [1,2,3,4,5],\n",
        " 'col2' : [6,7,8,9,1],\n",
        " 'col3': [2,3,4,5,6]}"
      ],
      "metadata": {
        "id": "4i7hRnXSDTYn"
      },
      "execution_count": null,
      "outputs": []
    },
    {
      "cell_type": "code",
      "source": [
        "df = pd.DataFrame(dict)"
      ],
      "metadata": {
        "id": "GGx5nQUJDnvF"
      },
      "execution_count": null,
      "outputs": []
    },
    {
      "cell_type": "code",
      "source": [
        "ds1 = pd.Series(df['col1'])"
      ],
      "metadata": {
        "id": "LXNdbO2FDqVV"
      },
      "execution_count": null,
      "outputs": []
    },
    {
      "cell_type": "code",
      "source": [
        "ds1"
      ],
      "metadata": {
        "colab": {
          "base_uri": "https://localhost:8080/"
        },
        "id": "EghPzpa8DyBL",
        "outputId": "542994c4-e1c6-4656-89e6-b67cce88fcde"
      },
      "execution_count": null,
      "outputs": [
        {
          "output_type": "execute_result",
          "data": {
            "text/plain": [
              "0    1\n",
              "1    2\n",
              "2    3\n",
              "3    4\n",
              "4    5\n",
              "Name: col1, dtype: int64"
            ]
          },
          "metadata": {},
          "execution_count": 42
        }
      ]
    },
    {
      "cell_type": "code",
      "source": [
        "#Write a Pandas program to convert Series of lists to one Series"
      ],
      "metadata": {
        "id": "z8wIZmwiDzRm"
      },
      "execution_count": null,
      "outputs": []
    },
    {
      "cell_type": "code",
      "source": [
        "\n",
        "s = pd.Series([\n",
        "    ['Red', 'Green', 'White'],\n",
        "    ['Red', 'Black'],\n",
        "    ['Yellow']])\n",
        "print(\"Original Series of list\")\n",
        "print(s)\n",
        "s = s.apply(pd.Series).stack().reset_index(drop=True)\n",
        "print(\"One Series\")\n",
        "print(s)\n"
      ],
      "metadata": {
        "id": "vEj6c4hUMm4P"
      },
      "execution_count": null,
      "outputs": []
    },
    {
      "cell_type": "code",
      "source": [
        "import pandas as pd"
      ],
      "metadata": {
        "id": "mb8ayUHnNEFd"
      },
      "execution_count": 3,
      "outputs": []
    },
    {
      "cell_type": "code",
      "source": [
        "s = pd.Series([\n",
        "    ['Red', 'Green', 'White'],\n",
        "    ['Red', 'Black'],\n",
        "    ['Yellow']])"
      ],
      "metadata": {
        "id": "OsQwie_8NCKK"
      },
      "execution_count": 4,
      "outputs": []
    },
    {
      "cell_type": "code",
      "source": [
        "s"
      ],
      "metadata": {
        "colab": {
          "base_uri": "https://localhost:8080/"
        },
        "id": "Rcy4_vmjNCrO",
        "outputId": "69e6d5c7-a1b8-4127-8a9d-85812a658d10"
      },
      "execution_count": 5,
      "outputs": [
        {
          "output_type": "execute_result",
          "data": {
            "text/plain": [
              "0    [Red, Green, White]\n",
              "1           [Red, Black]\n",
              "2               [Yellow]\n",
              "dtype: object"
            ]
          },
          "metadata": {},
          "execution_count": 5
        }
      ]
    },
    {
      "cell_type": "code",
      "source": [
        "s = s.apply(pd.Series).stack().reset_index(drop=True)"
      ],
      "metadata": {
        "id": "CDTSzeseNIco"
      },
      "execution_count": 6,
      "outputs": []
    },
    {
      "cell_type": "code",
      "source": [
        "s"
      ],
      "metadata": {
        "colab": {
          "base_uri": "https://localhost:8080/"
        },
        "id": "hAtJgQ9UNS8J",
        "outputId": "b606b96b-5e01-4ced-b9ac-7d6f1f3245b1"
      },
      "execution_count": 7,
      "outputs": [
        {
          "output_type": "execute_result",
          "data": {
            "text/plain": [
              "0       Red\n",
              "1     Green\n",
              "2     White\n",
              "3       Red\n",
              "4     Black\n",
              "5    Yellow\n",
              "dtype: object"
            ]
          },
          "metadata": {},
          "execution_count": 7
        }
      ]
    },
    {
      "cell_type": "code",
      "source": [
        "# 11. Write a Pandas program to sort a given Series."
      ],
      "metadata": {
        "id": "c3MRSlOeNV9F"
      },
      "execution_count": 8,
      "outputs": []
    },
    {
      "cell_type": "code",
      "source": [
        "s = pd.Series(['100', '200', 'python', '300.12', '400'])"
      ],
      "metadata": {
        "id": "yn6D6KfCNnzs"
      },
      "execution_count": 9,
      "outputs": []
    },
    {
      "cell_type": "code",
      "source": [
        "s.sort_values()"
      ],
      "metadata": {
        "colab": {
          "base_uri": "https://localhost:8080/"
        },
        "id": "gM2wz4BINsAm",
        "outputId": "d0d8a021-521d-4b52-f41a-474ea2925aad"
      },
      "execution_count": 10,
      "outputs": [
        {
          "output_type": "execute_result",
          "data": {
            "text/plain": [
              "0       100\n",
              "1       200\n",
              "3    300.12\n",
              "4       400\n",
              "2    python\n",
              "dtype: object"
            ]
          },
          "metadata": {},
          "execution_count": 10
        }
      ]
    },
    {
      "cell_type": "code",
      "source": [
        "#12. Write a Pandas program to add some data to an existing Series."
      ],
      "metadata": {
        "id": "CB8VEJ_KNucg"
      },
      "execution_count": 11,
      "outputs": []
    },
    {
      "cell_type": "code",
      "source": [
        "s = pd.Series(['100', '200', 'python', '300.12', '400'])\n",
        "s2 = pd.Series(['100000'])"
      ],
      "metadata": {
        "id": "8FlR8uY-N8a0"
      },
      "execution_count": 17,
      "outputs": []
    },
    {
      "cell_type": "code",
      "source": [
        "s.append(s2)"
      ],
      "metadata": {
        "colab": {
          "base_uri": "https://localhost:8080/"
        },
        "id": "Rqx4CqWMOaaw",
        "outputId": "14ea810d-7f7e-4c20-928f-59187e09239a"
      },
      "execution_count": 15,
      "outputs": [
        {
          "output_type": "execute_result",
          "data": {
            "text/plain": [
              "0       100\n",
              "1       200\n",
              "2    python\n",
              "3    300.12\n",
              "4       400\n",
              "0    100000\n",
              "dtype: object"
            ]
          },
          "metadata": {},
          "execution_count": 15
        }
      ]
    },
    {
      "cell_type": "code",
      "source": [
        "s.append(s2).reset_index(drop=True)\n",
        "\n"
      ],
      "metadata": {
        "colab": {
          "base_uri": "https://localhost:8080/",
          "height": 237
        },
        "id": "FpuIjTVnOdLa",
        "outputId": "2556b8c6-6811-4299-c97b-21feb84f850a"
      },
      "execution_count": 18,
      "outputs": [
        {
          "output_type": "execute_result",
          "data": {
            "text/plain": [
              "   index       0\n",
              "0      0     100\n",
              "1      1     200\n",
              "2      2  python\n",
              "3      3  300.12\n",
              "4      4     400\n",
              "5      0  100000"
            ],
            "text/html": [
              "\n",
              "  <div id=\"df-7496a178-7a39-421d-868d-028139b0da68\">\n",
              "    <div class=\"colab-df-container\">\n",
              "      <div>\n",
              "<style scoped>\n",
              "    .dataframe tbody tr th:only-of-type {\n",
              "        vertical-align: middle;\n",
              "    }\n",
              "\n",
              "    .dataframe tbody tr th {\n",
              "        vertical-align: top;\n",
              "    }\n",
              "\n",
              "    .dataframe thead th {\n",
              "        text-align: right;\n",
              "    }\n",
              "</style>\n",
              "<table border=\"1\" class=\"dataframe\">\n",
              "  <thead>\n",
              "    <tr style=\"text-align: right;\">\n",
              "      <th></th>\n",
              "      <th>index</th>\n",
              "      <th>0</th>\n",
              "    </tr>\n",
              "  </thead>\n",
              "  <tbody>\n",
              "    <tr>\n",
              "      <th>0</th>\n",
              "      <td>0</td>\n",
              "      <td>100</td>\n",
              "    </tr>\n",
              "    <tr>\n",
              "      <th>1</th>\n",
              "      <td>1</td>\n",
              "      <td>200</td>\n",
              "    </tr>\n",
              "    <tr>\n",
              "      <th>2</th>\n",
              "      <td>2</td>\n",
              "      <td>python</td>\n",
              "    </tr>\n",
              "    <tr>\n",
              "      <th>3</th>\n",
              "      <td>3</td>\n",
              "      <td>300.12</td>\n",
              "    </tr>\n",
              "    <tr>\n",
              "      <th>4</th>\n",
              "      <td>4</td>\n",
              "      <td>400</td>\n",
              "    </tr>\n",
              "    <tr>\n",
              "      <th>5</th>\n",
              "      <td>0</td>\n",
              "      <td>100000</td>\n",
              "    </tr>\n",
              "  </tbody>\n",
              "</table>\n",
              "</div>\n",
              "      <button class=\"colab-df-convert\" onclick=\"convertToInteractive('df-7496a178-7a39-421d-868d-028139b0da68')\"\n",
              "              title=\"Convert this dataframe to an interactive table.\"\n",
              "              style=\"display:none;\">\n",
              "        \n",
              "  <svg xmlns=\"http://www.w3.org/2000/svg\" height=\"24px\"viewBox=\"0 0 24 24\"\n",
              "       width=\"24px\">\n",
              "    <path d=\"M0 0h24v24H0V0z\" fill=\"none\"/>\n",
              "    <path d=\"M18.56 5.44l.94 2.06.94-2.06 2.06-.94-2.06-.94-.94-2.06-.94 2.06-2.06.94zm-11 1L8.5 8.5l.94-2.06 2.06-.94-2.06-.94L8.5 2.5l-.94 2.06-2.06.94zm10 10l.94 2.06.94-2.06 2.06-.94-2.06-.94-.94-2.06-.94 2.06-2.06.94z\"/><path d=\"M17.41 7.96l-1.37-1.37c-.4-.4-.92-.59-1.43-.59-.52 0-1.04.2-1.43.59L10.3 9.45l-7.72 7.72c-.78.78-.78 2.05 0 2.83L4 21.41c.39.39.9.59 1.41.59.51 0 1.02-.2 1.41-.59l7.78-7.78 2.81-2.81c.8-.78.8-2.07 0-2.86zM5.41 20L4 18.59l7.72-7.72 1.47 1.35L5.41 20z\"/>\n",
              "  </svg>\n",
              "      </button>\n",
              "      \n",
              "  <style>\n",
              "    .colab-df-container {\n",
              "      display:flex;\n",
              "      flex-wrap:wrap;\n",
              "      gap: 12px;\n",
              "    }\n",
              "\n",
              "    .colab-df-convert {\n",
              "      background-color: #E8F0FE;\n",
              "      border: none;\n",
              "      border-radius: 50%;\n",
              "      cursor: pointer;\n",
              "      display: none;\n",
              "      fill: #1967D2;\n",
              "      height: 32px;\n",
              "      padding: 0 0 0 0;\n",
              "      width: 32px;\n",
              "    }\n",
              "\n",
              "    .colab-df-convert:hover {\n",
              "      background-color: #E2EBFA;\n",
              "      box-shadow: 0px 1px 2px rgba(60, 64, 67, 0.3), 0px 1px 3px 1px rgba(60, 64, 67, 0.15);\n",
              "      fill: #174EA6;\n",
              "    }\n",
              "\n",
              "    [theme=dark] .colab-df-convert {\n",
              "      background-color: #3B4455;\n",
              "      fill: #D2E3FC;\n",
              "    }\n",
              "\n",
              "    [theme=dark] .colab-df-convert:hover {\n",
              "      background-color: #434B5C;\n",
              "      box-shadow: 0px 1px 3px 1px rgba(0, 0, 0, 0.15);\n",
              "      filter: drop-shadow(0px 1px 2px rgba(0, 0, 0, 0.3));\n",
              "      fill: #FFFFFF;\n",
              "    }\n",
              "  </style>\n",
              "\n",
              "      <script>\n",
              "        const buttonEl =\n",
              "          document.querySelector('#df-7496a178-7a39-421d-868d-028139b0da68 button.colab-df-convert');\n",
              "        buttonEl.style.display =\n",
              "          google.colab.kernel.accessAllowed ? 'block' : 'none';\n",
              "\n",
              "        async function convertToInteractive(key) {\n",
              "          const element = document.querySelector('#df-7496a178-7a39-421d-868d-028139b0da68');\n",
              "          const dataTable =\n",
              "            await google.colab.kernel.invokeFunction('convertToInteractive',\n",
              "                                                     [key], {});\n",
              "          if (!dataTable) return;\n",
              "\n",
              "          const docLinkHtml = 'Like what you see? Visit the ' +\n",
              "            '<a target=\"_blank\" href=https://colab.research.google.com/notebooks/data_table.ipynb>data table notebook</a>'\n",
              "            + ' to learn more about interactive tables.';\n",
              "          element.innerHTML = '';\n",
              "          dataTable['output_type'] = 'display_data';\n",
              "          await google.colab.output.renderOutput(dataTable, element);\n",
              "          const docLink = document.createElement('div');\n",
              "          docLink.innerHTML = docLinkHtml;\n",
              "          element.appendChild(docLink);\n",
              "        }\n",
              "      </script>\n",
              "    </div>\n",
              "  </div>\n",
              "  "
            ]
          },
          "metadata": {},
          "execution_count": 18
        }
      ]
    },
    {
      "cell_type": "code",
      "source": [
        "s.append(s2).reset_index(drop=True)"
      ],
      "metadata": {
        "colab": {
          "base_uri": "https://localhost:8080/"
        },
        "id": "B0k_XmXgO3UW",
        "outputId": "19f1cf37-0541-41ad-9179-6966e41784d3"
      },
      "execution_count": 19,
      "outputs": [
        {
          "output_type": "execute_result",
          "data": {
            "text/plain": [
              "0       100\n",
              "1       200\n",
              "2    python\n",
              "3    300.12\n",
              "4       400\n",
              "5    100000\n",
              "dtype: object"
            ]
          },
          "metadata": {},
          "execution_count": 19
        }
      ]
    },
    {
      "cell_type": "code",
      "source": [
        "s[:3]"
      ],
      "metadata": {
        "colab": {
          "base_uri": "https://localhost:8080/"
        },
        "id": "8zuhWPqMO8DQ",
        "outputId": "871868a1-aad2-4b0c-badb-29e3a33ebaf4"
      },
      "execution_count": 21,
      "outputs": [
        {
          "output_type": "execute_result",
          "data": {
            "text/plain": [
              "0       100\n",
              "1       200\n",
              "2    python\n",
              "dtype: object"
            ]
          },
          "metadata": {},
          "execution_count": 21
        }
      ]
    },
    {
      "cell_type": "code",
      "source": [
        "#Change the order of index of a given series\n"
      ],
      "metadata": {
        "id": "xMmQQbQ4PM50"
      },
      "execution_count": 22,
      "outputs": []
    },
    {
      "cell_type": "code",
      "source": [
        "ds1 = pd.Series([1,2,3,4,5], index = ['a', 'b', 'c', 'd', 'e'])"
      ],
      "metadata": {
        "id": "OVcfrHXjPdea"
      },
      "execution_count": 23,
      "outputs": []
    },
    {
      "cell_type": "code",
      "source": [
        "ds1"
      ],
      "metadata": {
        "colab": {
          "base_uri": "https://localhost:8080/"
        },
        "id": "5m-sRGq-Pphi",
        "outputId": "a4a63328-5f22-47ec-fc57-7036a4c2b288"
      },
      "execution_count": 24,
      "outputs": [
        {
          "output_type": "execute_result",
          "data": {
            "text/plain": [
              "a    1\n",
              "b    2\n",
              "c    3\n",
              "d    4\n",
              "e    5\n",
              "dtype: int64"
            ]
          },
          "metadata": {},
          "execution_count": 24
        }
      ]
    },
    {
      "cell_type": "code",
      "source": [
        "ds1.reindex(index= ['b', 'c', 'd', 'e', 'a'])"
      ],
      "metadata": {
        "colab": {
          "base_uri": "https://localhost:8080/"
        },
        "id": "2C_-QoTiPqym",
        "outputId": "ca66028d-620f-4e67-fb34-cab1f1fb9fde"
      },
      "execution_count": 28,
      "outputs": [
        {
          "output_type": "execute_result",
          "data": {
            "text/plain": [
              "b    2\n",
              "c    3\n",
              "d    4\n",
              "e    5\n",
              "a    1\n",
              "dtype: int64"
            ]
          },
          "metadata": {},
          "execution_count": 28
        }
      ]
    },
    {
      "cell_type": "code",
      "source": [
        "import pandas as pd\n",
        "s = pd.Series(data = [1,2,3,4,5], index = ['A', 'B', 'C','D','E'])\n",
        "print(\"Original Data Series:\")\n",
        "print(s)\n",
        "s = s.reindex(index = ['B','A','C','D','E'])\n",
        "print(\"Data Series after changing the order of index:\")\n",
        "print(s)\n"
      ],
      "metadata": {
        "colab": {
          "base_uri": "https://localhost:8080/"
        },
        "id": "07JOSVEPP2fE",
        "outputId": "b4565295-ba21-4a46-c9fb-c024cfb4cd69"
      },
      "execution_count": 27,
      "outputs": [
        {
          "output_type": "stream",
          "name": "stdout",
          "text": [
            "Original Data Series:\n",
            "A    1\n",
            "B    2\n",
            "C    3\n",
            "D    4\n",
            "E    5\n",
            "dtype: int64\n",
            "Data Series after changing the order of index:\n",
            "B    2\n",
            "A    1\n",
            "C    3\n",
            "D    4\n",
            "E    5\n",
            "dtype: int64\n"
          ]
        }
      ]
    },
    {
      "cell_type": "code",
      "source": [
        "#Create the mean and standard deviation of the data of a given Series"
      ],
      "metadata": {
        "id": "1C6EdmjMQD4Y"
      },
      "execution_count": 29,
      "outputs": []
    },
    {
      "cell_type": "code",
      "source": [
        "ds1 = pd.Series([1,2,3,4,5])\n",
        "print('mean:', ds1.mean())\n",
        "print('std:', ds1.std())"
      ],
      "metadata": {
        "colab": {
          "base_uri": "https://localhost:8080/"
        },
        "id": "iCYbSsx2QjDG",
        "outputId": "bbefd7b2-cd5a-4541-c12d-c8085c2cf1bf"
      },
      "execution_count": 30,
      "outputs": [
        {
          "output_type": "stream",
          "name": "stdout",
          "text": [
            "mean: 3.0\n",
            "std: 1.5811388300841898\n"
          ]
        }
      ]
    },
    {
      "cell_type": "code",
      "source": [
        "# 16. Write a Pandas program to get the items of a given series not present in another given series"
      ],
      "metadata": {
        "id": "HnoJ8RpIQ01k"
      },
      "execution_count": 31,
      "outputs": []
    },
    {
      "cell_type": "code",
      "source": [
        "sr1 = pd.Series([1, 2, 3, 4, 5])\n",
        "sr2 = pd.Series([2, 4, 6, 8, 10])"
      ],
      "metadata": {
        "id": "n7NyHZUNREyn"
      },
      "execution_count": 32,
      "outputs": []
    },
    {
      "cell_type": "code",
      "source": [
        "result = sr1[sr1.isin(sr2)]\n",
        "result"
      ],
      "metadata": {
        "colab": {
          "base_uri": "https://localhost:8080/"
        },
        "id": "mbneNd1mSqsu",
        "outputId": "9ead3a16-a582-41be-c01a-308817efd06e"
      },
      "execution_count": 34,
      "outputs": [
        {
          "output_type": "execute_result",
          "data": {
            "text/plain": [
              "1    2\n",
              "3    4\n",
              "dtype: int64"
            ]
          },
          "metadata": {},
          "execution_count": 34
        }
      ]
    },
    {
      "cell_type": "code",
      "source": [
        "result = sr1[~sr1.isin(sr2)]\n",
        "result"
      ],
      "metadata": {
        "colab": {
          "base_uri": "https://localhost:8080/"
        },
        "id": "KKwykw53Tdpb",
        "outputId": "7dbb3af2-0843-4f27-ddf1-36e850d25890"
      },
      "execution_count": 35,
      "outputs": [
        {
          "output_type": "execute_result",
          "data": {
            "text/plain": [
              "0    1\n",
              "2    3\n",
              "4    5\n",
              "dtype: int64"
            ]
          },
          "metadata": {},
          "execution_count": 35
        }
      ]
    },
    {
      "cell_type": "code",
      "source": [
        "#17. Write a Pandas program to get the items which are not common of two given series."
      ],
      "metadata": {
        "id": "Og_hDTN3TkMy"
      },
      "execution_count": 36,
      "outputs": []
    },
    {
      "cell_type": "code",
      "source": [
        "import pandas as pd\n",
        "import numpy as np\n",
        "sr1 = pd.Series([1, 2, 3, 4, 5])\n",
        "sr2 = pd.Series([2, 4, 6, 8, 10])\n",
        "print(\"Original Series:\")\n",
        "print(\"sr1:\")\n",
        "print(sr1)\n",
        "print(\"sr2:\")\n",
        "print(sr2)\n",
        "print(\"\\nItems of a given series not present in another given series:\")\n",
        "sr11 = pd.Series(np.union1d(sr1, sr2))\n",
        "sr22 = pd.Series(np.intersect1d(sr1, sr2))\n",
        "result = sr11[~sr11.isin(sr22)]\n",
        "print(result)"
      ],
      "metadata": {
        "colab": {
          "base_uri": "https://localhost:8080/"
        },
        "id": "TIBg43TSTvQ7",
        "outputId": "2330bf9f-7e6c-456f-8214-a45ee5845a25"
      },
      "execution_count": 37,
      "outputs": [
        {
          "output_type": "stream",
          "name": "stdout",
          "text": [
            "Original Series:\n",
            "sr1:\n",
            "0    1\n",
            "1    2\n",
            "2    3\n",
            "3    4\n",
            "4    5\n",
            "dtype: int64\n",
            "sr2:\n",
            "0     2\n",
            "1     4\n",
            "2     6\n",
            "3     8\n",
            "4    10\n",
            "dtype: int64\n",
            "\n",
            "Items of a given series not present in another given series:\n",
            "0     1\n",
            "2     3\n",
            "4     5\n",
            "5     6\n",
            "6     8\n",
            "7    10\n",
            "dtype: int64\n"
          ]
        }
      ]
    },
    {
      "cell_type": "code",
      "source": [
        "sr11"
      ],
      "metadata": {
        "colab": {
          "base_uri": "https://localhost:8080/"
        },
        "id": "o2XSq9_XVUxH",
        "outputId": "8ff2b8b7-fea6-47b5-e9de-1b72269aeee1"
      },
      "execution_count": 38,
      "outputs": [
        {
          "output_type": "execute_result",
          "data": {
            "text/plain": [
              "0     1\n",
              "1     2\n",
              "2     3\n",
              "3     4\n",
              "4     5\n",
              "5     6\n",
              "6     8\n",
              "7    10\n",
              "dtype: int64"
            ]
          },
          "metadata": {},
          "execution_count": 38
        }
      ]
    },
    {
      "cell_type": "code",
      "source": [
        "sr22"
      ],
      "metadata": {
        "colab": {
          "base_uri": "https://localhost:8080/"
        },
        "id": "PTqtET7oVYdS",
        "outputId": "1418483b-7294-4c59-e3ee-9b24948bbfdb"
      },
      "execution_count": 39,
      "outputs": [
        {
          "output_type": "execute_result",
          "data": {
            "text/plain": [
              "0    2\n",
              "1    4\n",
              "dtype: int64"
            ]
          },
          "metadata": {},
          "execution_count": 39
        }
      ]
    },
    {
      "cell_type": "code",
      "source": [
        "result = sr11[~sr11.isin(sr22)]\n",
        "result"
      ],
      "metadata": {
        "colab": {
          "base_uri": "https://localhost:8080/"
        },
        "id": "6ectulDWVdrj",
        "outputId": "48383112-0594-474b-d23c-9b94ae3526ac"
      },
      "execution_count": 40,
      "outputs": [
        {
          "output_type": "execute_result",
          "data": {
            "text/plain": [
              "0     1\n",
              "2     3\n",
              "4     5\n",
              "5     6\n",
              "6     8\n",
              "7    10\n",
              "dtype: int64"
            ]
          },
          "metadata": {},
          "execution_count": 40
        }
      ]
    },
    {
      "cell_type": "code",
      "source": [],
      "metadata": {
        "id": "G5l3ji2rVld7"
      },
      "execution_count": null,
      "outputs": []
    }
  ]
}